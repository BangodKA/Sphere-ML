{
 "cells": [
  {
   "cell_type": "markdown",
   "metadata": {},
   "source": [
    "### Алгоритмы интеллектуальной обработки больших объемов данных\n",
    "## Домашнее задание №4 - Градиентный бустинг\n"
   ]
  },
  {
   "cell_type": "markdown",
   "metadata": {},
   "source": [
    "**Общая информация**\n",
    "\n",
    "**Срок сдачи:** 21 декабря 2020, 08:30   \n",
    "**Штраф за опоздание:** -2 балла после 08:30 21 декабря, -4 балла после 08:30 28 декабря, -6 баллов после 08:30 04 янва, -8 баллов после 08:30 11 января.\n",
    "\n",
    "При отправлении ДЗ указывайте фамилию в названии файла Присылать ДЗ необходимо в виде ссылки на свой github репозиторий на почту ml1.sphere@mail.ru с указанием темы в следующем формате:\n",
    "[ML0220, Задание 4] Фамилия Имя. \n",
    "\n",
    "\n",
    "Используйте данный Ipython Notebook при оформлении домашнего задания."
   ]
  },
  {
   "cell_type": "markdown",
   "metadata": {},
   "source": [
    "##  Считаем производные для функций потерь (1 балл)"
   ]
  },
  {
   "cell_type": "markdown",
   "metadata": {},
   "source": [
    "Мы будем реализовать градиентный бустинг для 3 функций потерь:\n",
    "\n",
    "1) MSE  $L(a(x_i), y_i) = (y_i - a(x_i)) ^ 2$\n",
    "\n",
    "2) Экспоненциальная  $L(a(x_i), y_i) = exp( -a(x_i) y_i), y_i \\in \\{-1, 1\\}$\n",
    "\n",
    "3) Логистическая  $L(a(x_i), y_i) = \\log (1 + exp( -a(x_i) y_i)), y_i \\in \\{-1, 1\\}$\n",
    "\n",
    "где $a(x_i)$ предсказание бустинга на итом объекте. \n",
    "\n",
    "Для каждой функции потерь напишите таргет, на который будет настраиваться каждое дерево в бустинге. "
   ]
  },
  {
   "cell_type": "markdown",
   "metadata": {},
   "source": [
    "$$MSE::-\\frac{d}{da}L = 2 * (y_i - a(x_i))$$\n",
    "$$Exponential::-\\frac{d}{da}L = y_i * exp(-a(x_i)y_i)$$\n",
    "$$Log::-\\frac{d}{da}L = \\frac{y_i * exp(-a(x_i)y_i)}{1 + exp(-a(x_i)y_i)}$$"
   ]
  },
  {
   "cell_type": "markdown",
   "metadata": {},
   "source": [
    "##  Реализуем градиентный бустинг (3 балла)"
   ]
  },
  {
   "cell_type": "markdown",
   "metadata": {},
   "source": [
    "Реализуйте класс градиентного бустинга для классификации. Ваша реализация бустинга должна работать по точности не более чем на 5 процентов хуже чем GradientBoostingClassifier из sklearn. \n"
   ]
  },
  {
   "cell_type": "markdown",
   "metadata": {},
   "source": [
    "Детали реализации:\n",
    "\n",
    "-- должно поддерживаться 3 функции потерь\n",
    "\n",
    "-- сами базовые алгоритмы(деревья, линейные модели и тп) реализовать не надо, просто возьмите готовые из sklearn\n",
    "\n",
    "-- в качестве функции потерь для построения одного дерева используйте MSE\n",
    "\n",
    "-- шаг в бустинге можно не подбирать, можно брать константный\n",
    "\n",
    "-- можно брать разные модели в качестве инициализации бустинга\n",
    "\n",
    "-- должны поддерживаться следующие параметры:\n",
    "\n",
    "а) число итераций\n",
    "б) размер шага\n",
    "в) процент случайных фичей при построении одного дерева\n",
    "д) процент случайных объектов при построении одного дерева\n",
    "е) параметры базового алгоритма (передавайте через **kwargs)"
   ]
  },
  {
   "cell_type": "code",
   "execution_count": 83,
   "metadata": {
    "ExecuteTime": {
     "end_time": "2020-12-21T04:55:50.929334Z",
     "start_time": "2020-12-21T04:55:50.924320Z"
    }
   },
   "outputs": [],
   "source": [
    "import numpy as np\n",
    "import matplotlib.pyplot as plt\n",
    "\n",
    "from sklearn.datasets import load_wine\n",
    "from sklearn.ensemble import GradientBoostingClassifier\n",
    "from sklearn.metrics import accuracy_score\n",
    "from sklearn.model_selection import train_test_split\n",
    "from sklearn.tree import DecisionTreeRegressor\n",
    "from sklearn.ensemble import RandomForestRegressor, RandomForestClassifier\n",
    "from sklearn.linear_model import SGDClassifier\n",
    "from sklearn.svm import SVC\n",
    "from sklearn.model_selection import KFold, train_test_split\n",
    "from sklearn.preprocessing import StandardScaler"
   ]
  },
  {
   "cell_type": "code",
   "execution_count": 92,
   "metadata": {
    "ExecuteTime": {
     "end_time": "2020-12-21T05:01:10.524207Z",
     "start_time": "2020-12-21T05:01:10.507768Z"
    }
   },
   "outputs": [],
   "source": [
    "class MyGradientBoostingClassifier:\n",
    "\n",
    "    def __init__(self, loss='MSE', learning_rate=0.1, n_estimators_=100,\n",
    "                 colsample=1.0, subsample=1.0, *args, **kwargs):\n",
    "        \"\"\"\n",
    "        loss -- один из 3 лоссов:\n",
    "        learning_rate -- шаг бустинга\n",
    "        n_estimators -- число итераций\n",
    "        colsample -- процент рандомных признаков при обучнеии одного алгоритма\n",
    "        subsample -- процент рандомных объектов при обучнеии одного алгоритма\n",
    "        args, kwargs -- параметры  базовых моделей\n",
    "        \"\"\"\n",
    "        if loss == 'MSE':\n",
    "            self.__get_loss = self.__get_MSE\n",
    "            self.__get_grad = self.__get_MSE_grad\n",
    "        elif loss == 'exp':\n",
    "            self.__get_loss = self.__get_exp\n",
    "            self.__get_grad = self.__get_exp_grad\n",
    "        else:\n",
    "            self.__get_loss = self.__get_log\n",
    "            self.__get_grad = self.__get_log_grad\n",
    "        self.learning_rate = learning_rate\n",
    "        self.n_estimators = n_estimators_\n",
    "        self.attr_fract = colsample\n",
    "        self.sample_fract = subsample\n",
    "        self.noname_params = args\n",
    "        self.withname_params = kwargs\n",
    "\n",
    "    def __get_MSE(self, real, preds):\n",
    "        return (real - preds) ** 2\n",
    "\n",
    "    def __get_exp(self, real, preds):\n",
    "        return np.exp(-preds * real)\n",
    "\n",
    "    def __get_log(self, real, preds):\n",
    "        return np.log(1 + np.exp(-preds * real))\n",
    "\n",
    "    def __get_MSE_grad(self, real, preds):\n",
    "        return 2 * (real - preds)\n",
    "\n",
    "    def __get_exp_grad(self, real, preds):\n",
    "        return real * np.exp(-preds * real)\n",
    "\n",
    "    def __get_log_grad(self, real, preds):\n",
    "        return real * np.exp(-preds * real) / (1 + np.exp(-preds * real))\n",
    "\n",
    "    def __init_model(self, init_model):\n",
    "        if init_model is None:\n",
    "            self.booster = np.float64(np.ones(self.y.shape[0]) / self.y.shape[0])\n",
    "            self.init_model = None\n",
    "        else:\n",
    "            self.init_model = init_model(*self.noname_params, **self.withname_params)\n",
    "            self.init_model.fit(self.X, self.y)\n",
    "            self.booster = np.float64(self.init_model.predict(self.X))\n",
    "\n",
    "            \n",
    "    def __choose_data(self):\n",
    "        features_inds = np.random.randint(\n",
    "            0, self.X.shape[1], size=int(self.X.shape[1] * self.attr_fract))\n",
    "        self.features_inds.append(features_inds)\n",
    "        objects_inds = np.random.randint(\n",
    "            0, self.X.shape[0], size=int(self.X.shape[0] * self.sample_fract))\n",
    "        X_algo = self.X[np.ix_(objects_inds, features_inds)]\n",
    "        X_pred = self.X[:, features_inds]\n",
    "        y_algo = self.y[objects_inds]\n",
    "        prev_res = self.booster[objects_inds]\n",
    "        return X_algo, X_pred, y_algo, prev_res\n",
    "\n",
    "    def fit(self, X, y, base_model=DecisionTreeRegressor, init_model=None):\n",
    "        \"\"\"\n",
    "        X -- объекты для обучения:\n",
    "        y -- таргеты для обучения\n",
    "        base_model -- класс базовых моделей, например sklearn.tree.DecisionTreeRegressor\n",
    "        init_model -- класс для первой модели, если None то берем константу (только для посл задания)\n",
    "        \"\"\"\n",
    "        self.X = X\n",
    "        self.y = y\n",
    "\n",
    "        self.__init_model(init_model)\n",
    "\n",
    "        self.models = []\n",
    "        self.features_inds = []\n",
    "        for estimator in range(self.n_estimators):\n",
    "            X_algo, X_pred, y_algo, prev_res = self.__choose_data()\n",
    "            target = self.__get_grad(y_algo, prev_res)\n",
    "            model = base_model(*self.noname_params, **self.withname_params)\n",
    "            model.fit(X_algo, target)\n",
    "            self.models.append(model)\n",
    "            self.booster += self.learning_rate * \\\n",
    "                model.predict(X_pred)\n",
    "\n",
    "    def predict(self, X):\n",
    "        if self.init_model is None:\n",
    "            preds = np.float64(np.ones(X.shape[0]) / X.shape[0])\n",
    "        else:\n",
    "            preds = np.float64(self.init_model.predict(X))\n",
    "        for model, feat in zip(self.models, self.features_inds):\n",
    "            preds += self.learning_rate * model.predict(X[:, feat])\n",
    "        return np.around(preds)"
   ]
  },
  {
   "cell_type": "code",
   "execution_count": 61,
   "metadata": {
    "ExecuteTime": {
     "end_time": "2020-12-21T04:49:12.544036Z",
     "start_time": "2020-12-21T04:49:12.541703Z"
    }
   },
   "outputs": [],
   "source": [
    "my_clf = MyGradientBoostingClassifier()\n",
    "clf = GradientBoostingClassifier()"
   ]
  },
  {
   "cell_type": "code",
   "execution_count": 62,
   "metadata": {
    "ExecuteTime": {
     "end_time": "2020-12-21T04:49:12.798460Z",
     "start_time": "2020-12-21T04:49:12.784018Z"
    }
   },
   "outputs": [],
   "source": [
    "wine = load_wine()\n",
    "X_train, X_test, y_train, y_test = train_test_split(\n",
    "    wine.data, wine.target, test_size=0.1, stratify=wine.target)"
   ]
  },
  {
   "cell_type": "code",
   "execution_count": 63,
   "metadata": {
    "ExecuteTime": {
     "end_time": "2020-12-21T04:49:13.598403Z",
     "start_time": "2020-12-21T04:49:13.155805Z"
    }
   },
   "outputs": [
    {
     "name": "stdout",
     "output_type": "stream",
     "text": [
      "0.9444444444444444\n",
      "0.9444444444444444\n"
     ]
    }
   ],
   "source": [
    "my_clf.fit(X_train, y_train)\n",
    "clf.fit(X_train, y_train)\n",
    "print(accuracy_score(y_pred=clf.predict(X_test), y_true=y_test))\n",
    "print(accuracy_score(y_pred=my_clf.predict(X_test), y_true=y_test))"
   ]
  },
  {
   "cell_type": "markdown",
   "metadata": {},
   "source": [
    "## Подбираем параметры (2 балла)\n",
    "\n",
    "Давайте попробуем применить Ваш бустинг для предсказаний цены домов в Калифорнии. Чтобы можно было попробовтаь разные функции потерь, переведем по порогу таргет в 2 класса: дорогие и дешевые дома."
   ]
  },
  {
   "cell_type": "markdown",
   "metadata": {},
   "source": [
    "В задании нужно\n",
    "\n",
    "1) Построить график точности в зависимости от числа итераций на валидации.\n",
    "\n",
    "2) Подобрать оптимальные параметры Вашего бустинга на валидации. \n"
   ]
  },
  {
   "cell_type": "code",
   "execution_count": 67,
   "metadata": {
    "ExecuteTime": {
     "end_time": "2020-12-21T04:49:49.259049Z",
     "start_time": "2020-12-21T04:49:49.238992Z"
    }
   },
   "outputs": [],
   "source": [
    "from sklearn.datasets import fetch_california_housing\n",
    "X, y = fetch_california_housing(return_X_y=True)"
   ]
  },
  {
   "cell_type": "code",
   "execution_count": 68,
   "metadata": {
    "ExecuteTime": {
     "end_time": "2020-12-21T04:49:49.527777Z",
     "start_time": "2020-12-21T04:49:49.523255Z"
    }
   },
   "outputs": [
    {
     "name": "stdout",
     "output_type": "stream",
     "text": [
      "(20640, 8) (20640,)\n"
     ]
    }
   ],
   "source": [
    "# Превращаем регрессию в классификацию\n",
    "y = (y > 2.0).astype(int)\n",
    "print(X.shape, y.shape)"
   ]
  },
  {
   "cell_type": "code",
   "execution_count": 312,
   "metadata": {
    "ExecuteTime": {
     "end_time": "2020-12-21T02:11:12.836031Z",
     "start_time": "2020-12-21T02:11:12.833192Z"
    }
   },
   "outputs": [],
   "source": [
    "kf = KFold(n_splits=5, shuffle=False)\n",
    "full_res = []\n",
    "range_ = np.arange(20, 161, 20)\n",
    "for n_estimators in range_:\n",
    "    res = []\n",
    "    for train_index, val_index in kf.split(X):\n",
    "        model = MyGradientBoostingClassifier(n_estimators_=n_estimators)\n",
    "        scaler = StandardScaler()\n",
    "        X_train, X_val = X[train_index], X[val_index]\n",
    "        y_train, y_val = y[train_index], y[val_index]\n",
    "        X_train = scaler.fit_transform(X_train)\n",
    "        model.fit(X_train, y_train)\n",
    "        X_val = scaler.transform(X_val)\n",
    "        res.append(accuracy_score(y_val, model.predict(X_val)))\n",
    "    print(np.mean(res))\n",
    "    full_res.append(np.mean(res))"
   ]
  },
  {
   "cell_type": "code",
   "execution_count": 274,
   "metadata": {
    "ExecuteTime": {
     "end_time": "2020-12-21T01:21:33.221560Z",
     "start_time": "2020-12-21T01:21:32.974571Z"
    }
   },
   "outputs": [
    {
     "data": {
      "image/png": "[encoded data removed]",
      "text/plain": [
       "<Figure size 1152x360 with 1 Axes>"
      ]
     },
     "metadata": {
      "needs_background": "light"
     },
     "output_type": "display_data"
    }
   ],
   "source": [
    "fig = plt.figure(figsize=(16, 5))\n",
    "plt.plot(range_, full_res)\n",
    "plt.show()"
   ]
  },
  {
   "cell_type": "code",
   "execution_count": 28,
   "metadata": {
    "ExecuteTime": {
     "end_time": "2020-12-21T04:31:22.169263Z",
     "start_time": "2020-12-21T04:31:22.165428Z"
    }
   },
   "outputs": [],
   "source": [
    "best_n_estimators = 100"
   ]
  },
  {
   "cell_type": "code",
   "execution_count": 310,
   "metadata": {
    "ExecuteTime": {
     "end_time": "2020-12-21T02:10:18.753202Z",
     "start_time": "2020-12-21T02:06:32.370695Z"
    }
   },
   "outputs": [
    {
     "name": "stdout",
     "output_type": "stream",
     "text": [
      "0.7987887596899225\n"
     ]
    }
   ],
   "source": [
    "kf = KFold(n_splits=5, shuffle=False)\n",
    "best_res = 0\n",
    "for loss in ['MSE', 'exp', 'log']:\n",
    "    res = []\n",
    "    for train_index, val_index in kf.split(X):\n",
    "        model = MyGradientBoostingClassifier(\n",
    "            loss=loss, n_estimators_=best_n_estimators)\n",
    "        scaler = StandardScaler()\n",
    "        X_train, X_val = X[train_index], X[val_index]\n",
    "        y_train, y_val = y[train_index], y[val_index]\n",
    "        X_train = scaler.fit_transform(X_train)\n",
    "        model.fit(X_train, y_train)\n",
    "        X_val = scaler.transform(X_val)\n",
    "        res.append(accuracy_score(y_val, model.predict(X_val)))\n",
    "    mean = np.mean(res)\n",
    "    if mean > best_res:\n",
    "        print(mean)\n",
    "        best_res = mean\n",
    "        best_loss = loss"
   ]
  },
  {
   "cell_type": "code",
   "execution_count": 20,
   "metadata": {
    "ExecuteTime": {
     "end_time": "2020-12-21T04:30:27.262806Z",
     "start_time": "2020-12-21T04:30:27.255848Z"
    }
   },
   "outputs": [
    {
     "data": {
      "text/plain": [
       "'MSE'"
      ]
     },
     "execution_count": 20,
     "metadata": {},
     "output_type": "execute_result"
    }
   ],
   "source": [
    "best_loss"
   ]
  },
  {
   "cell_type": "code",
   "execution_count": 297,
   "metadata": {
    "ExecuteTime": {
     "end_time": "2020-12-21T02:01:16.634651Z",
     "start_time": "2020-12-21T01:54:23.802875Z"
    }
   },
   "outputs": [
    {
     "name": "stdout",
     "output_type": "stream",
     "text": [
      "0.8191375968992249\n"
     ]
    }
   ],
   "source": [
    "kf = KFold(n_splits=5, shuffle=False)\n",
    "best_res = 0\n",
    "for learning_rate in [0.05, 0.1, 0.3, 0.5]:\n",
    "    res = []\n",
    "    for train_index, val_index in kf.split(X):\n",
    "        model = MyGradientBoostingClassifier(\n",
    "            loss=best_loss, n_estimators_=best_n_estimators, learning_rate=learning_rate)\n",
    "        scaler = StandardScaler()\n",
    "        X_train, X_val = X[train_index], X[val_index]\n",
    "        y_train, y_val = y[train_index], y[val_index]\n",
    "        X_train = scaler.fit_transform(X_train)\n",
    "        model.fit(X_train, y_train, base_model=RandomForestRegressor)\n",
    "        X_val = scaler.transform(X_val)\n",
    "        res.append(accuracy_score(y_val, model.predict(X_val)))\n",
    "    mean = np.mean(res)\n",
    "    if mean > best_res:\n",
    "        print(mean)\n",
    "        best_res = mean\n",
    "        best_lr = learning_rate"
   ]
  },
  {
   "cell_type": "code",
   "execution_count": 22,
   "metadata": {
    "ExecuteTime": {
     "end_time": "2020-12-21T04:30:34.706925Z",
     "start_time": "2020-12-21T04:30:34.701718Z"
    }
   },
   "outputs": [
    {
     "data": {
      "text/plain": [
       "0.05"
      ]
     },
     "execution_count": 22,
     "metadata": {},
     "output_type": "execute_result"
    }
   ],
   "source": [
    "best_lr"
   ]
  },
  {
   "cell_type": "code",
   "execution_count": 292,
   "metadata": {
    "ExecuteTime": {
     "end_time": "2020-12-21T01:49:29.367114Z",
     "start_time": "2020-12-21T01:46:05.520310Z"
    }
   },
   "outputs": [
    {
     "name": "stdout",
     "output_type": "stream",
     "text": [
      "0.8156007751937985\n"
     ]
    }
   ],
   "source": [
    "kf = KFold(n_splits=5, shuffle=False)\n",
    "best_res = 0\n",
    "for colsample in [1.0, 0.7, 0.5, 0.2]:\n",
    "    res = []\n",
    "    for train_index, val_index in kf.split(X):\n",
    "        model = MyGradientBoostingClassifier(\n",
    "            loss=best_loss, n_estimators_=best_n_estimators, learning_rate=best_lr, colsample=colsample)\n",
    "        scaler = StandardScaler()\n",
    "        X_train, X_val = X[train_index], X[val_index]\n",
    "        y_train, y_val = y[train_index], y[val_index]\n",
    "        X_train = scaler.fit_transform(X_train)\n",
    "        model.fit(X_train, y_train, base_model=RandomForestRegressor)\n",
    "        X_val = scaler.transform(X_val)\n",
    "        res.append(accuracy_score(y_val, model.predict(X_val)))\n",
    "    mean = np.mean(res)\n",
    "    if mean > best_res:\n",
    "        print(mean)\n",
    "        best_res = mean\n",
    "        best_colsample = colsample"
   ]
  },
  {
   "cell_type": "code",
   "execution_count": 24,
   "metadata": {
    "ExecuteTime": {
     "end_time": "2020-12-21T04:30:41.805725Z",
     "start_time": "2020-12-21T04:30:41.800898Z"
    }
   },
   "outputs": [
    {
     "data": {
      "text/plain": [
       "1.0"
      ]
     },
     "execution_count": 24,
     "metadata": {},
     "output_type": "execute_result"
    }
   ],
   "source": [
    "best_colsample"
   ]
  },
  {
   "cell_type": "code",
   "execution_count": 295,
   "metadata": {
    "ExecuteTime": {
     "end_time": "2020-12-21T01:53:34.782501Z",
     "start_time": "2020-12-21T01:49:39.365801Z"
    }
   },
   "outputs": [
    {
     "name": "stdout",
     "output_type": "stream",
     "text": [
      "0.8186046511627907\n"
     ]
    }
   ],
   "source": [
    "kf = KFold(n_splits=5, shuffle=False)\n",
    "best_res = 0\n",
    "for subsample in [1.0, 0.7, 0.5, 0.2]:\n",
    "    res = []\n",
    "    for train_index, val_index in kf.split(X):\n",
    "        model = MyGradientBoostingClassifier(\n",
    "            loss=best_loss, n_estimators_=best_n_estimators,\n",
    "            learning_rate=best_lr, colsample=best_colsample, subsample=subsample)\n",
    "        scaler = StandardScaler()\n",
    "        X_train, X_val = X[train_index], X[val_index]\n",
    "        y_train, y_val = y[train_index], y[val_index]\n",
    "        X_train = scaler.fit_transform(X_train)\n",
    "        model.fit(X_train, y_train, base_model=RandomForestRegressor)\n",
    "        X_val = scaler.transform(X_val)\n",
    "        res.append(accuracy_score(y_val, model.predict(X_val)))\n",
    "    mean = np.mean(res)\n",
    "    if mean > best_res:\n",
    "        print(mean)\n",
    "        best_res = mean\n",
    "        best_subsample = subsample"
   ]
  },
  {
   "cell_type": "code",
   "execution_count": 26,
   "metadata": {
    "ExecuteTime": {
     "end_time": "2020-12-21T04:30:48.336375Z",
     "start_time": "2020-12-21T04:30:48.331776Z"
    }
   },
   "outputs": [
    {
     "data": {
      "text/plain": [
       "1.0"
      ]
     },
     "execution_count": 26,
     "metadata": {},
     "output_type": "execute_result"
    }
   ],
   "source": [
    "best_subsample"
   ]
  },
  {
   "cell_type": "markdown",
   "metadata": {},
   "source": [
    "Дальнейшие вычисления проведем уже на разбитой выборке, так как валидация считалась бесконечно"
   ]
  },
  {
   "cell_type": "code",
   "execution_count": 69,
   "metadata": {
    "ExecuteTime": {
     "end_time": "2020-12-21T04:49:55.747634Z",
     "start_time": "2020-12-21T04:49:55.740528Z"
    }
   },
   "outputs": [],
   "source": [
    "X_train, X_test, y_train, y_test = train_test_split(X, y, test_size=0.33, random_state=42)"
   ]
  },
  {
   "cell_type": "code",
   "execution_count": 70,
   "metadata": {
    "ExecuteTime": {
     "end_time": "2020-12-21T04:49:56.161937Z",
     "start_time": "2020-12-21T04:49:56.153175Z"
    }
   },
   "outputs": [],
   "source": [
    "scaler = StandardScaler()\n",
    "X_train = scaler.fit_transform(X_train)\n",
    "X_test = scaler.transform(X_test)"
   ]
  },
  {
   "cell_type": "code",
   "execution_count": 71,
   "metadata": {
    "ExecuteTime": {
     "end_time": "2020-12-21T04:50:10.724443Z",
     "start_time": "2020-12-21T04:49:56.492116Z"
    }
   },
   "outputs": [
    {
     "data": {
      "text/plain": [
       "0.8766881972988844"
      ]
     },
     "execution_count": 71,
     "metadata": {},
     "output_type": "execute_result"
    }
   ],
   "source": [
    "model = MyGradientBoostingClassifier(\n",
    "            loss=best_loss, n_estimators_=best_n_estimators,\n",
    "            learning_rate=best_lr, colsample=best_colsample, subsample=best_subsample)\n",
    "model.fit(X_train, y_train)\n",
    "accuracy_score(y_test, model.predict(X_test))"
   ]
  },
  {
   "cell_type": "markdown",
   "metadata": {},
   "source": [
    "## BooBag BagBoo (1 балл)\n",
    "\n"
   ]
  },
  {
   "cell_type": "markdown",
   "metadata": {},
   "source": [
    "Попробуем объединить бустинг и бэгинг. Давайте\n",
    "\n",
    "1) в качестве базовой модели брать не дерево решений, а случайный лес (из sklearn)\n",
    "\n",
    "2) обучать N бустингов на бустрапированной выборке, а затем предикт усреднять"
   ]
  },
  {
   "cell_type": "markdown",
   "metadata": {},
   "source": [
    "Попробуйте обе этих стратегии на данных из прошлого задания. Получилось ли улучшить качество? Почему?"
   ]
  },
  {
   "cell_type": "code",
   "execution_count": 94,
   "metadata": {
    "ExecuteTime": {
     "end_time": "2020-12-21T05:06:23.048493Z",
     "start_time": "2020-12-21T05:05:21.147392Z"
    }
   },
   "outputs": [
    {
     "data": {
      "text/plain": [
       "0.892982971227246"
      ]
     },
     "execution_count": 94,
     "metadata": {},
     "output_type": "execute_result"
    }
   ],
   "source": [
    "model = MyGradientBoostingClassifier(loss=best_loss, n_estimators_=best_n_estimators,\n",
    "                                     learning_rate=best_lr, colsample=best_colsample,\n",
    "                                     subsample=best_subsample, n_estimators = 6)\n",
    "model.fit(X_train, y_train, base_model=RandomForestRegressor)\n",
    "accuracy_score(y_test, model.predict(X_test))"
   ]
  },
  {
   "cell_type": "code",
   "execution_count": 33,
   "metadata": {
    "ExecuteTime": {
     "end_time": "2020-12-21T04:40:20.831625Z",
     "start_time": "2020-12-21T04:40:20.718138Z"
    }
   },
   "outputs": [],
   "source": [
    "from multiprocessing.dummy import Pool\n",
    "from tqdm.notebook import tqdm"
   ]
  },
  {
   "cell_type": "code",
   "execution_count": 44,
   "metadata": {
    "ExecuteTime": {
     "end_time": "2020-12-21T04:42:56.898793Z",
     "start_time": "2020-12-21T04:42:56.892496Z"
    }
   },
   "outputs": [],
   "source": [
    "def process_random_boost(i):\n",
    "    model = MyGradientBoostingClassifier(loss=best_loss, n_estimators_=best_n_estimators,\n",
    "                                         learning_rate=best_lr, colsample=best_colsample,\n",
    "                                         subsample=best_subsample)\n",
    "    samples_inds = np.random.randint(0, X_train.shape[0], size=int(X_train.shape[0] / N))\n",
    "    X_boost = X_train[samples_inds, :]\n",
    "    y_boost = y_train[samples_inds]\n",
    "    model.fit(X_boost, y_boost)\n",
    "    preds = model.predict(X_test)\n",
    "    with lock:\n",
    "        boots_res.append(preds)\n",
    "        pbar.update(1)"
   ]
  },
  {
   "cell_type": "code",
   "execution_count": 82,
   "metadata": {
    "ExecuteTime": {
     "end_time": "2020-12-21T04:55:39.114356Z",
     "start_time": "2020-12-21T04:55:32.541855Z"
    }
   },
   "outputs": [
    {
     "data": {
      "application/vnd.jupyter.widget-view+json": {
       "model_id": "798f3d06dd02422e95e9b46c6d4d7f76",
       "version_major": 2,
       "version_minor": 0
      },
      "text/plain": [
       "HBox(children=(HTML(value=''), FloatProgress(value=1.0, bar_style='info', layout=Layout(width='20px'), max=1.0…"
      ]
     },
     "metadata": {},
     "output_type": "display_data"
    },
    {
     "name": "stdout",
     "output_type": "stream",
     "text": [
      "\n",
      "0.8571638285378743\n"
     ]
    }
   ],
   "source": [
    "N = 70\n",
    "with Pool(10) as pool, tqdm(N) as pbar:\n",
    "    boots_res = []\n",
    "    lock = pbar.get_lock()\n",
    "    pool.map(process_random_boost, range(N))\n",
    "pool.join()\n",
    "print(accuracy_score(y_test, np.sum(boots_res, axis=0) / N > 0.5))"
   ]
  },
  {
   "cell_type": "markdown",
   "metadata": {},
   "source": [
    "Улучшить получилось с помощью первой стратегии.\n",
    "Лес очень хорошо подстраивается под очередные данные, таким образом уменьшая ошибку все сильнее и сильнее.\n",
    "Во второй стратегии результаты близкие"
   ]
  },
  {
   "cell_type": "markdown",
   "metadata": {
    "collapsed": true
   },
   "source": [
    "## Умная инициализация (1 балл)\n",
    "\n",
    "Попробуйте брать в качестве инициализации бустинга не константу, а какой-то алгоритм и уже от его предикта стартовать итерации бустинга. Попробуйте разные модели из sklearn: линейные модели, рандом форест, svm..\n",
    "\n",
    "Получилось ли улучшить качество? Почему?\n",
    "\n"
   ]
  },
  {
   "cell_type": "code",
   "execution_count": 77,
   "metadata": {
    "ExecuteTime": {
     "end_time": "2020-12-21T04:54:05.248384Z",
     "start_time": "2020-12-21T04:53:47.061359Z"
    }
   },
   "outputs": [
    {
     "data": {
      "text/plain": [
       "0.841015854374633"
      ]
     },
     "execution_count": 77,
     "metadata": {},
     "output_type": "execute_result"
    }
   ],
   "source": [
    "model = MyGradientBoostingClassifier()\n",
    "model.fit(X_train, y_train, init_model=SGDClassifier)\n",
    "accuracy_score(y_test, model.predict(X_test))"
   ]
  },
  {
   "cell_type": "code",
   "execution_count": 78,
   "metadata": {
    "ExecuteTime": {
     "end_time": "2020-12-21T04:54:31.712069Z",
     "start_time": "2020-12-21T04:54:07.573689Z"
    }
   },
   "outputs": [
    {
     "data": {
      "text/plain": [
       "0.8565766294773929"
      ]
     },
     "execution_count": 78,
     "metadata": {},
     "output_type": "execute_result"
    }
   ],
   "source": [
    "model = MyGradientBoostingClassifier()\n",
    "model.fit(X_train, y_train, init_model=SVC)\n",
    "accuracy_score(y_test, model.predict(X_test))"
   ]
  },
  {
   "cell_type": "code",
   "execution_count": 80,
   "metadata": {
    "ExecuteTime": {
     "end_time": "2020-12-21T04:55:17.462942Z",
     "start_time": "2020-12-21T04:54:50.571395Z"
    }
   },
   "outputs": [
    {
     "data": {
      "text/plain": [
       "0.8807985907222549"
      ]
     },
     "execution_count": 80,
     "metadata": {},
     "output_type": "execute_result"
    }
   ],
   "source": [
    "model = MyGradientBoostingClassifier()\n",
    "model.fit(X_train, y_train, init_model=RandomForestRegressor)\n",
    "accuracy_score(y_test, model.predict(X_test))"
   ]
  },
  {
   "cell_type": "code",
   "execution_count": 84,
   "metadata": {
    "ExecuteTime": {
     "end_time": "2020-12-21T04:56:06.081807Z",
     "start_time": "2020-12-21T04:56:03.640619Z"
    }
   },
   "outputs": [
    {
     "data": {
      "text/plain": [
       "0.8816793893129771"
      ]
     },
     "execution_count": 84,
     "metadata": {},
     "output_type": "execute_result"
    }
   ],
   "source": [
    "model = MyGradientBoostingClassifier()\n",
    "model.fit(X_train, y_train, init_model=RandomForestClassifier)\n",
    "accuracy_score(y_test, model.predict(X_test))"
   ]
  },
  {
   "cell_type": "markdown",
   "metadata": {},
   "source": [
    "Улучшить получилось. Константные веса были выбраны довольно прямолинейное, здесь же лес изначально выделяет более удачное направление"
   ]
  },
  {
   "cell_type": "markdown",
   "metadata": {},
   "source": [
    "## Фидбек (бесценно)"
   ]
  },
  {
   "cell_type": "markdown",
   "metadata": {},
   "source": [
    "* Какие аспекты обучения  ансамблей Вам показались непонятными? Какое место стоит дополнительно объяснить?"
   ]
  },
  {
   "cell_type": "markdown",
   "metadata": {},
   "source": [
    "### Ваш ответ здесь"
   ]
  },
  {
   "cell_type": "markdown",
   "metadata": {},
   "source": [
    "* Здесь Вы можете оставить отзыв о этой домашней работе или о всем курсе."
   ]
  },
  {
   "cell_type": "markdown",
   "metadata": {},
   "source": [
    "### ВАШ ОТЗЫВ ЗДЕСЬ\n",
    "\n"
   ]
  },
  {
   "cell_type": "code",
   "execution_count": null,
   "metadata": {
    "collapsed": true
   },
   "outputs": [],
   "source": []
  },
  {
   "cell_type": "code",
   "execution_count": null,
   "metadata": {
    "collapsed": true
   },
   "outputs": [],
   "source": []
  }
 ],
 "metadata": {
  "anaconda-cloud": {},
  "kernelspec": {
   "display_name": "py385",
   "language": "python",
   "name": "py385"
  },
  "language_info": {
   "codemirror_mode": {
    "name": "ipython",
    "version": 3
   },
   "file_extension": ".py",
   "mimetype": "text/x-python",
   "name": "python",
   "nbconvert_exporter": "python",
   "pygments_lexer": "ipython3",
   "version": "3.8.5"
  }
 },
 "nbformat": 4,
 "nbformat_minor": 2
}
